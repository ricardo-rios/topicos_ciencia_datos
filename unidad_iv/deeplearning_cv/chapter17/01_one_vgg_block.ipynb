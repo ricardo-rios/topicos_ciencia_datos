{
  "nbformat": 4,
  "nbformat_minor": 0,
  "metadata": {
    "colab": {
      "name": "Untitled19.ipynb",
      "provenance": [],
      "collapsed_sections": []
    },
    "kernelspec": {
      "name": "python3",
      "display_name": "Python 3"
    }
  },
  "cells": [
    {
      "cell_type": "code",
      "metadata": {
        "id": "zsZkVS_0poes"
      },
      "source": [
        "# Example of creating a CNN model with a VGG block\n",
        "from keras.models import Model\n",
        "from keras.layers import Input\n",
        "from keras.layers import Conv2D\n",
        "from keras.layers import MaxPooling2D\n",
        "from keras.utils import plot_model\n"
      ],
      "execution_count": null,
      "outputs": []
    },
    {
      "cell_type": "code",
      "metadata": {
        "id": "G7scEcV5Ucvc"
      },
      "source": [
        "# function for creating a vgg block\n",
        "def vgg_block(layer_in, n_filters, n_conv):\n",
        "\t# add convolutional layers\n",
        "\tfor _ in range(n_conv):\n",
        "\t\tlayer_in = Conv2D(n_filters, (3,3), padding='same', activation='relu')(layer_in)\n",
        "\t# add max pooling layer\n",
        "\tlayer_in = MaxPooling2D((2,2), strides=(2,2))(layer_in)\n",
        "\treturn layer_in\n"
      ],
      "execution_count": null,
      "outputs": []
    },
    {
      "cell_type": "code",
      "metadata": {
        "id": "CCIyGW33lHXb"
      },
      "source": [
        "# define model input\n",
        "visible = Input(shape=(256, 256, 3))\n",
        "# add vgg module\n",
        "layer = vgg_block(visible, 64, 2)\n",
        "# create model\n",
        "model = Model(inputs=visible, outputs=layer)\n",
        "# summarize model\n",
        "model.summary()\n"
      ],
      "execution_count": null,
      "outputs": []
    },
    {
      "cell_type": "code",
      "metadata": {
        "id": "HZAq3uc_lKhv"
      },
      "source": [
        "# plot model architecture\n",
        "plot_model(model, show_shapes=True, to_file='vgg_block.png')"
      ],
      "execution_count": null,
      "outputs": []
    },
    {
      "cell_type": "code",
      "metadata": {
        "id": "AZRwflgylOCY"
      },
      "source": [
        ""
      ],
      "execution_count": null,
      "outputs": []
    }
  ]
}