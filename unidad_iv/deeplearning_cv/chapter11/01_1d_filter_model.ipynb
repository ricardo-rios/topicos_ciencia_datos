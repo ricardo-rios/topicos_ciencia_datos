{
  "nbformat": 4,
  "nbformat_minor": 0,
  "metadata": {
    "colab": {
      "name": "Untitled17.ipynb",
      "provenance": [],
      "collapsed_sections": []
    },
    "kernelspec": {
      "name": "python3",
      "display_name": "Python 3"
    }
  },
  "cells": [
    {
      "cell_type": "code",
      "metadata": {
        "id": "cT_ePn-uc_28"
      },
      "source": [
        "# example of calculation 1d convolutions\n",
        "from numpy import asarray\n",
        "from keras.models import Sequential\n",
        "from keras.layers import Conv1D\n"
      ],
      "execution_count": null,
      "outputs": []
    },
    {
      "cell_type": "code",
      "metadata": {
        "id": "CZkDii5DdBI0"
      },
      "source": [
        "# define input data\n",
        "data = asarray([0, 0, 0, 1, 1, 0, 0, 0])\n",
        "data = data.reshape(1, 8, 1)\n"
      ],
      "execution_count": null,
      "outputs": []
    },
    {
      "cell_type": "code",
      "metadata": {
        "id": "sVPB7oU4oRsJ"
      },
      "source": [
        "# create model\n",
        "model = Sequential()\n",
        "model.add(Conv1D(1, 3, input_shape=(8, 1)))\n"
      ],
      "execution_count": null,
      "outputs": []
    },
    {
      "cell_type": "code",
      "metadata": {
        "id": "ythMJ8mVoWSM"
      },
      "source": [
        "# define a vertical line detector\n",
        "weights = [asarray([[[0]],[[1]],[[0]]]), asarray([0.0])]\n",
        "# store the weights in the model\n",
        "model.set_weights(weights)\n",
        "# confirm they were stored\n",
        "print(model.get_weights())\n"
      ],
      "execution_count": null,
      "outputs": []
    },
    {
      "cell_type": "code",
      "metadata": {
        "id": "mAlf28cOoZZl"
      },
      "source": [
        "# apply filter to input data\n",
        "yhat = model.predict(data)\n",
        "print(yhat)"
      ],
      "execution_count": null,
      "outputs": []
    },
    {
      "cell_type": "code",
      "metadata": {
        "id": "NAY82sk9obwl"
      },
      "source": [
        ""
      ],
      "execution_count": null,
      "outputs": []
    }
  ]
}