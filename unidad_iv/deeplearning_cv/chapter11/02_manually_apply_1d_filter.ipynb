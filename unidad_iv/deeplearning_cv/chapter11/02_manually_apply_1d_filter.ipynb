{
  "nbformat": 4,
  "nbformat_minor": 0,
  "metadata": {
    "colab": {
      "name": "Untitled17.ipynb",
      "provenance": [],
      "collapsed_sections": []
    },
    "kernelspec": {
      "name": "python3",
      "display_name": "Python 3"
    }
  },
  "cells": [
    {
      "cell_type": "code",
      "metadata": {
        "id": "cT_ePn-uc_28"
      },
      "source": [
        "# manually apply a 1d filter\n",
        "from numpy import asarray\n",
        "print(asarray([0, 1, 0]).dot(asarray([0, 0, 0])))"
      ],
      "execution_count": null,
      "outputs": []
    },
    {
      "cell_type": "code",
      "metadata": {
        "id": "GtpUgK94pc3v"
      },
      "source": [
        ""
      ],
      "execution_count": null,
      "outputs": []
    }
  ]
}