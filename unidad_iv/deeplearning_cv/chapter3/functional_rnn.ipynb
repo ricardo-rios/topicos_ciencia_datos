{
  "nbformat": 4,
  "nbformat_minor": 0,
  "metadata": {
    "colab": {
      "name": "Untitled12.ipynb",
      "provenance": [],
      "collapsed_sections": []
    },
    "kernelspec": {
      "name": "python3",
      "display_name": "Python 3"
    }
  },
  "cells": [
    {
      "cell_type": "code",
      "metadata": {
        "id": "mbOUBAmyL5yB"
      },
      "source": [
        "# example of a recurrent neural network\n",
        "from keras.utils import plot_model\n",
        "from keras.models import Model\n",
        "from keras.layers import Input\n",
        "from keras.layers import Dense\n",
        "from keras.layers.recurrent import LSTM\n",
        "import matplotlib.pyplot as plt\n",
        "import matplotlib.image as mpimg"
      ],
      "execution_count": null,
      "outputs": []
    },
    {
      "cell_type": "code",
      "metadata": {
        "id": "uU2pbD-qMA5a"
      },
      "source": [
        "visible = Input(shape=(100,1))\n",
        "hidden1 = LSTM(10)(visible)\n",
        "hidden2 = Dense(10, activation='relu')(hidden1)\n",
        "output = Dense(1, activation='sigmoid')(hidden2)\n",
        "model = Model(inputs=visible, outputs=output)\n"
      ],
      "execution_count": null,
      "outputs": []
    },
    {
      "cell_type": "code",
      "metadata": {
        "id": "7vrLIJJRMDDU"
      },
      "source": [
        "# summarize layers\n",
        "model.summary()\n"
      ],
      "execution_count": null,
      "outputs": []
    },
    {
      "cell_type": "code",
      "metadata": {
        "id": "P2jKNlLuAsVR"
      },
      "source": [
        "# plot graph\n",
        "plot_model(model, to_file='recurrent_neural_network.png')"
      ],
      "execution_count": null,
      "outputs": []
    },
    {
      "cell_type": "code",
      "metadata": {
        "id": "UlsOpuB9MFVy"
      },
      "source": [
        "! ls "
      ],
      "execution_count": null,
      "outputs": []
    },
    {
      "cell_type": "code",
      "metadata": {
        "id": "3ewsUieJMJWQ"
      },
      "source": [
        "img = mpimg.imread('./recurrent_neural_network.png')\n",
        "imgplot = plt.imshow(img)\n",
        "plt.show()\n"
      ],
      "execution_count": null,
      "outputs": []
    },
    {
      "cell_type": "code",
      "metadata": {
        "id": "kZVi7uG3My1d"
      },
      "source": [
        ""
      ],
      "execution_count": null,
      "outputs": []
    }
  ]
}