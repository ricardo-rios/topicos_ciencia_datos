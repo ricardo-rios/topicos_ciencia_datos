{
  "nbformat": 4,
  "nbformat_minor": 0,
  "metadata": {
    "colab": {
      "name": "Untitled16.ipynb",
      "provenance": [],
      "collapsed_sections": []
    },
    "kernelspec": {
      "name": "python3",
      "display_name": "Python 3"
    }
  },
  "cells": [
    {
      "cell_type": "code",
      "metadata": {
        "id": "BaQB2KEzKkOM"
      },
      "source": [
        "%pip install wget"
      ],
      "execution_count": null,
      "outputs": []
    },
    {
      "cell_type": "code",
      "metadata": {
        "id": "Ok1Ey0pxK7ff"
      },
      "source": [
        "# example of loading an image with the Keras API\n",
        "import wget\n",
        "# example of expanding dimensions\n",
        "from numpy import expand_dims\n",
        "from numpy import asarray\n",
        "from PIL import Image\n",
        "from IPython.display import display # to display images"
      ],
      "execution_count": null,
      "outputs": []
    },
    {
      "cell_type": "code",
      "metadata": {
        "id": "0exQK_2rLBh2"
      },
      "source": [
        "url = \"https://github.com/ricardo-rios/topicos_ciencia_datos/raw/master/unidad_iv/deeplearning_cv/chapter10/penguin_parade.jpg\"\n",
        "wget.download(url)\n",
        "# load the image\n",
        "img = Image.open('penguin_parade.jpg')"
      ],
      "execution_count": null,
      "outputs": []
    },
    {
      "cell_type": "code",
      "metadata": {
        "id": "8RGYx9eMLfwX"
      },
      "source": [
        "# convert the image to grayscale\n",
        "img = img.convert(mode='L')\n",
        "# convert to numpy array\n",
        "data = asarray(img)\n",
        "print(data.shape)\n"
      ],
      "execution_count": null,
      "outputs": []
    },
    {
      "cell_type": "code",
      "metadata": {
        "id": "C3sip3bEaOdU"
      },
      "source": [
        "# add channels first\n",
        "data_first = expand_dims(data, axis=0)\n",
        "print(data_first.shape)\n"
      ],
      "execution_count": null,
      "outputs": []
    },
    {
      "cell_type": "code",
      "metadata": {
        "id": "2K4i7g25aRTj"
      },
      "source": [
        "# add channels last\n",
        "data_last = expand_dims(data, axis=2)\n",
        "print(data_last.shape)"
      ],
      "execution_count": null,
      "outputs": []
    },
    {
      "cell_type": "code",
      "metadata": {
        "id": "6OwcYJPGaT7y"
      },
      "source": [
        ""
      ],
      "execution_count": null,
      "outputs": []
    }
  ]
}