{
  "nbformat": 4,
  "nbformat_minor": 0,
  "metadata": {
    "colab": {
      "name": "Untitled16.ipynb",
      "provenance": [],
      "collapsed_sections": []
    },
    "kernelspec": {
      "name": "python3",
      "display_name": "Python 3"
    }
  },
  "cells": [
    {
      "cell_type": "code",
      "metadata": {
        "id": "BaQB2KEzKkOM"
      },
      "source": [
        "%pip install wget"
      ],
      "execution_count": null,
      "outputs": []
    },
    {
      "cell_type": "code",
      "metadata": {
        "id": "Ok1Ey0pxK7ff"
      },
      "source": [
        "# example of loading an image with the Keras API\n",
        "import wget\n",
        "# example of expanding dimensions\n",
        "from numpy import moveaxis\n",
        "from numpy import asarray\n",
        "from PIL import Image\n",
        "from IPython.display import display # to display images"
      ],
      "execution_count": null,
      "outputs": []
    },
    {
      "cell_type": "code",
      "metadata": {
        "id": "0exQK_2rLBh2"
      },
      "source": [
        "url = \"https://github.com/ricardo-rios/topicos_ciencia_datos/raw/master/unidad_iv/deeplearning_cv/chapter10/penguin_parade.jpg\"\n",
        "wget.download(url)\n",
        "# load the image\n",
        "img = Image.open('penguin_parade.jpg')"
      ],
      "execution_count": null,
      "outputs": []
    },
    {
      "cell_type": "code",
      "metadata": {
        "id": "6OwcYJPGaT7y"
      },
      "source": [
        "# convert to numpy array\n",
        "data = asarray(img)\n",
        "print(data.shape)\n"
      ],
      "execution_count": null,
      "outputs": []
    },
    {
      "cell_type": "code",
      "metadata": {
        "id": "jvnYbGwebYJn"
      },
      "source": [
        "# change channels last to channels first format\n",
        "data = moveaxis(data, 2, 0)\n",
        "print(data.shape)\n"
      ],
      "execution_count": null,
      "outputs": []
    },
    {
      "cell_type": "code",
      "metadata": {
        "id": "4tTrpshHbZ-m"
      },
      "source": [
        "# change channels first to channels last format\n",
        "data = moveaxis(data, 0, 2)\n",
        "print(data.shape)"
      ],
      "execution_count": null,
      "outputs": []
    },
    {
      "cell_type": "code",
      "metadata": {
        "id": "JS_Gy3pObbmF"
      },
      "source": [
        ""
      ],
      "execution_count": null,
      "outputs": []
    }
  ]
}