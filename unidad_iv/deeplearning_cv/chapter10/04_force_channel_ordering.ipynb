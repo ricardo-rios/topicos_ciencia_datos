{
  "nbformat": 4,
  "nbformat_minor": 0,
  "metadata": {
    "colab": {
      "name": "Untitled17.ipynb",
      "provenance": [],
      "collapsed_sections": []
    },
    "kernelspec": {
      "name": "python3",
      "display_name": "Python 3"
    }
  },
  "cells": [
    {
      "cell_type": "code",
      "metadata": {
        "id": "cT_ePn-uc_28"
      },
      "source": [
        "# force a channel ordering\n",
        "from keras import backend\n",
        "# force channels-first ordering\n",
        "backend.set_image_data_format('channels_first')\n",
        "print(backend.image_data_format())\n",
        "\n"
      ],
      "execution_count": null,
      "outputs": []
    },
    {
      "cell_type": "code",
      "metadata": {
        "id": "CZkDii5DdBI0"
      },
      "source": [
        "# force channels-last ordering\n",
        "backend.set_image_data_format('channels_last')\n",
        "print(backend.image_data_format())"
      ],
      "execution_count": null,
      "outputs": []
    },
    {
      "cell_type": "code",
      "metadata": {
        "id": "51dwQibmdmgq"
      },
      "source": [
        ""
      ],
      "execution_count": null,
      "outputs": []
    }
  ]
}