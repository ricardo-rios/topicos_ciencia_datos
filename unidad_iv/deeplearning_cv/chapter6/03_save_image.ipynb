{
  "nbformat": 4,
  "nbformat_minor": 0,
  "metadata": {
    "colab": {
      "name": "Untitled14.ipynb",
      "provenance": [],
      "collapsed_sections": []
    },
    "kernelspec": {
      "name": "python3",
      "display_name": "Python 3"
    }
  },
  "cells": [
    {
      "cell_type": "code",
      "metadata": {
        "id": "_zld9OaXXhhb"
      },
      "source": [
        "%pip install wget"
      ],
      "execution_count": null,
      "outputs": []
    },
    {
      "cell_type": "code",
      "metadata": {
        "id": "kPgKv9JTynEB"
      },
      "source": [
        "# example of saving an image with the Keras API\n",
        "import wget\n",
        "from IPython.display import display # to display images\n",
        "from keras.preprocessing.image import load_img\n",
        "from keras.preprocessing.image import save_img\n",
        "from keras.preprocessing.image import img_to_array\n",
        "\n",
        "\n",
        "url = \"https://github.com/ricardo-rios/topicos_ciencia_datos/raw/master/unidad_iv/deeplearning_cv/chapter6/bondi_beach.jpg\"\n",
        "wget.download(url)\n",
        "# load image as as grayscale\n",
        "img = load_img('bondi_beach.jpg', color_mode='grayscale')"
      ],
      "execution_count": null,
      "outputs": []
    },
    {
      "cell_type": "code",
      "metadata": {
        "id": "beBN682akmaY"
      },
      "source": [
        "# convert image to a numpy array\n",
        "img_array = img_to_array(img)\n",
        "# save the image with a new filename\n",
        "save_img('bondi_beach_grayscale.jpg', img_array)\n",
        "# load the image to confirm it was saved correctly\n",
        "img = load_img('bondi_beach_grayscale.jpg')\n"
      ],
      "execution_count": null,
      "outputs": []
    },
    {
      "cell_type": "code",
      "metadata": {
        "id": "DkV6Zgx4szoV"
      },
      "source": [
        "print(type(img))\n",
        "print(img.format)\n",
        "print(img.mode)\n",
        "print(img.size)\n"
      ],
      "execution_count": null,
      "outputs": []
    },
    {
      "cell_type": "code",
      "metadata": {
        "id": "IvvY0PjZs1Wm"
      },
      "source": [
        "display(img)"
      ],
      "execution_count": null,
      "outputs": []
    },
    {
      "cell_type": "code",
      "metadata": {
        "id": "hYQsh9yPs5FE"
      },
      "source": [
        ""
      ],
      "execution_count": null,
      "outputs": []
    }
  ]
}