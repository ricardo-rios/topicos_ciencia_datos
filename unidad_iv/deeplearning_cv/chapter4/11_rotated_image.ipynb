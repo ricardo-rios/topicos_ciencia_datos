{
  "nbformat": 4,
  "nbformat_minor": 0,
  "metadata": {
    "colab": {
      "name": "Untitled12.ipynb",
      "provenance": [],
      "collapsed_sections": []
    },
    "kernelspec": {
      "name": "python3",
      "display_name": "Python 3"
    }
  },
  "cells": [
    {
      "cell_type": "code",
      "metadata": {
        "id": "aCSv-Iqou6Ap"
      },
      "source": [
        "# example of saving an image in another format\n",
        "from PIL import Image\n",
        "import requests\n",
        "from matplotlib import pyplot\n",
        "from IPython.display import display # to display images"
      ],
      "execution_count": null,
      "outputs": []
    },
    {
      "cell_type": "code",
      "metadata": {
        "id": "7UsoI5jzv5ib"
      },
      "source": [
        "# load the image\n",
        "# the following url was very helpful\n",
        "# https://stackoverflow.com/questions/7391945/how-do-i-read-image-data-from-a-url-in-python\n",
        "url = \"https://github.com/ricardo-rios/topicos_ciencia_datos/raw/master/unidad_iv/deeplearning_cv/chapter4/images/opera_house.jpg\"\n",
        "image = Image.open(requests.get(url, stream=True).raw)"
      ],
      "execution_count": null,
      "outputs": []
    },
    {
      "cell_type": "code",
      "metadata": {
        "id": "LdEyAX_P5lEt"
      },
      "source": [
        "# plot original image\n",
        "pyplot.subplot(311)\n",
        "pyplot.imshow(image)\n"
      ],
      "execution_count": null,
      "outputs": []
    },
    {
      "cell_type": "code",
      "metadata": {
        "id": "gX2VqQ5p6Fel"
      },
      "source": [
        "# rotate 45 degrees\n",
        "pyplot.subplot(312)\n",
        "pyplot.imshow(image.rotate(45))\n"
      ],
      "execution_count": null,
      "outputs": []
    },
    {
      "cell_type": "code",
      "metadata": {
        "id": "yEFUSj7R6Jam"
      },
      "source": [
        "# rotate 90 degrees\n",
        "pyplot.subplot(313)\n",
        "pyplot.imshow(image.rotate(90))\n",
        "pyplot.show()"
      ],
      "execution_count": null,
      "outputs": []
    },
    {
      "cell_type": "code",
      "metadata": {
        "id": "cOzfmZb16L6V"
      },
      "source": [
        ""
      ],
      "execution_count": null,
      "outputs": []
    }
  ]
}