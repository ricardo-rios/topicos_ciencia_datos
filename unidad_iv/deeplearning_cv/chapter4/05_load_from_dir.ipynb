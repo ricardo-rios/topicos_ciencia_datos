{
  "nbformat": 4,
  "nbformat_minor": 0,
  "metadata": {
    "colab": {
      "name": "Untitled12.ipynb",
      "provenance": [],
      "collapsed_sections": []
    },
    "kernelspec": {
      "name": "python3",
      "display_name": "Python 3"
    }
  },
  "cells": [
    {
      "cell_type": "code",
      "metadata": {
        "id": "INq-uJ2pmXDs"
      },
      "source": [
        "# load all images in a directory\n",
        "from os import listdir\n",
        "from matplotlib import image\n",
        "# load all images in a directory\n",
        "loaded_images = list()\n",
        "for filename in listdir('images'):\n",
        "\t# load image\n",
        "\timg_data = image.imread('images/' + filename)\n",
        "\t# store loaded image\n",
        "\tloaded_images.append(img_data)\n",
        "\tprint('> loaded %s %s' % (filename, img_data.shape))"
      ],
      "execution_count": null,
      "outputs": []
    }
  ]
}