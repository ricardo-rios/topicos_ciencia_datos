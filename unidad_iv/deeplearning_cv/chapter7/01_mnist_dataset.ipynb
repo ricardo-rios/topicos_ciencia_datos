{
  "nbformat": 4,
  "nbformat_minor": 0,
  "metadata": {
    "colab": {
      "name": "Untitled14.ipynb",
      "provenance": [],
      "collapsed_sections": []
    },
    "kernelspec": {
      "name": "python3",
      "display_name": "Python 3"
    }
  },
  "cells": [
    {
      "cell_type": "code",
      "metadata": {
        "id": "kPgKv9JTynEB"
      },
      "source": [
        "# load and summarize the MNIST dataset\n",
        "from keras.datasets import mnist\n"
      ],
      "execution_count": null,
      "outputs": []
    },
    {
      "cell_type": "code",
      "metadata": {
        "id": "hYQsh9yPs5FE"
      },
      "source": [
        "# load dataset\n",
        "(train_images, train_labels), (test_images, test_labels) = mnist.load_data()\n",
        "# summarize dataset shape\n",
        "print('Train', train_images.shape, train_labels.shape)\n",
        "print('Test', (test_images.shape, test_labels.shape))\n"
      ],
      "execution_count": null,
      "outputs": []
    },
    {
      "cell_type": "code",
      "metadata": {
        "id": "Hebb6Sg3xPNN"
      },
      "source": [
        "# summarize pixel values\n",
        "print('Train', train_images.min(), train_images.max(), train_images.mean(), train_images.std())\n",
        "print('Test', test_images.min(), test_images.max(), test_images.mean(), test_images.std())"
      ],
      "execution_count": null,
      "outputs": []
    },
    {
      "cell_type": "code",
      "metadata": {
        "id": "49KGEd8bxSbz"
      },
      "source": [
        ""
      ],
      "execution_count": null,
      "outputs": []
    }
  ]
}