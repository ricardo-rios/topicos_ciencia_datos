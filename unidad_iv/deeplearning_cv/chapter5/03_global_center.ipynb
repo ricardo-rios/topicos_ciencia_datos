{
  "nbformat": 4,
  "nbformat_minor": 0,
  "metadata": {
    "colab": {
      "name": "Untitled14.ipynb",
      "provenance": [],
      "collapsed_sections": []
    },
    "kernelspec": {
      "name": "python3",
      "display_name": "Python 3"
    }
  },
  "cells": [
    {
      "cell_type": "code",
      "metadata": {
        "id": "_zld9OaXXhhb"
      },
      "source": [
        "# example of saving an image in another format\n",
        "from PIL import Image\n",
        "import requests\n",
        "from IPython.display import display # to display images\n",
        "from numpy import asarray"
      ],
      "execution_count": null,
      "outputs": []
    },
    {
      "cell_type": "code",
      "metadata": {
        "id": "kPcHpT28EE6p"
      },
      "source": [
        "# load the image\n",
        "# the following url was very helpful\n",
        "# https://stackoverflow.com/questions/7391945/how-do-i-read-image-data-from-a-url-in-python\n",
        "url = \"https://github.com/ricardo-rios/topicos_ciencia_datos/raw/master/unidad_iv/deeplearning_cv/chapter5/sydney_bridge.jpg\"\n",
        "image = Image.open(requests.get(url, stream=True).raw)"
      ],
      "execution_count": null,
      "outputs": []
    },
    {
      "cell_type": "code",
      "metadata": {
        "id": "aDG5hyQEEWkV"
      },
      "source": [
        "pixels = asarray(image)\n",
        "# convert from integers to floats\n",
        "pixels = pixels.astype('float32')\n",
        "# calculate global mean\n",
        "mean = pixels.mean()\n",
        "print('Mean: %.3f' % mean)\n",
        "print('Min: %.3f, Max: %.3f' % (pixels.min(), pixels.max()))\n"
      ],
      "execution_count": null,
      "outputs": []
    },
    {
      "cell_type": "code",
      "metadata": {
        "id": "3OKOXx0YjEAy"
      },
      "source": [
        "# global centering of pixels\n",
        "pixels = pixels - mean\n",
        "# confirm it had the desired effect\n",
        "mean = pixels.mean()\n",
        "print('Mean: %.3f' % mean)\n",
        "print('Min: %.3f, Max: %.3f' % (pixels.min(), pixels.max()))"
      ],
      "execution_count": null,
      "outputs": []
    },
    {
      "cell_type": "code",
      "metadata": {
        "id": "LjUQQOjkjEa_"
      },
      "source": [
        ""
      ],
      "execution_count": null,
      "outputs": []
    }
  ]
}