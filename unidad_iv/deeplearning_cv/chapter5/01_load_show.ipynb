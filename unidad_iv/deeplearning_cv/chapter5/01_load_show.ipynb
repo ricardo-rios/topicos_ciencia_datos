{
  "nbformat": 4,
  "nbformat_minor": 0,
  "metadata": {
    "colab": {
      "name": "Untitled14.ipynb",
      "provenance": [],
      "collapsed_sections": []
    },
    "kernelspec": {
      "name": "python3",
      "display_name": "Python 3"
    }
  },
  "cells": [
    {
      "cell_type": "code",
      "metadata": {
        "id": "_zld9OaXXhhb"
      },
      "source": [
        "# example of saving an image in another format\n",
        "from PIL import Image\n",
        "import requests\n",
        "from IPython.display import display # to display images"
      ],
      "execution_count": null,
      "outputs": []
    },
    {
      "cell_type": "code",
      "metadata": {
        "id": "kPcHpT28EE6p"
      },
      "source": [
        "# load the image\n",
        "# the following url was very helpful\n",
        "# https://stackoverflow.com/questions/7391945/how-do-i-read-image-data-from-a-url-in-python\n",
        "url = \"https://github.com/ricardo-rios/topicos_ciencia_datos/raw/master/unidad_iv/deeplearning_cv/chapter5/sydney_bridge.jpg\"\n",
        "image = Image.open(requests.get(url, stream=True).raw)"
      ],
      "execution_count": null,
      "outputs": []
    },
    {
      "cell_type": "code",
      "metadata": {
        "id": "fmf2TEQ2EMjr"
      },
      "source": [
        "# summarize some details about the image\n",
        "print(image.format)\n",
        "print(image.mode)\n",
        "print(image.size)\n"
      ],
      "execution_count": null,
      "outputs": []
    },
    {
      "cell_type": "code",
      "metadata": {
        "id": "jaAIQw6SESN7"
      },
      "source": [
        "# show the image \n",
        "display(image)"
      ],
      "execution_count": null,
      "outputs": []
    },
    {
      "cell_type": "code",
      "metadata": {
        "id": "aDG5hyQEEWkV"
      },
      "source": [
        ""
      ],
      "execution_count": null,
      "outputs": []
    }
  ]
}