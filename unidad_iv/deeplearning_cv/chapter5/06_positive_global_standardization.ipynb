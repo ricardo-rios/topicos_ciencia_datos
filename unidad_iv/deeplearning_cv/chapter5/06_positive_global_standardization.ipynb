{
  "nbformat": 4,
  "nbformat_minor": 0,
  "metadata": {
    "colab": {
      "name": "Untitled14.ipynb",
      "provenance": [],
      "collapsed_sections": []
    },
    "kernelspec": {
      "name": "python3",
      "display_name": "Python 3"
    }
  },
  "cells": [
    {
      "cell_type": "code",
      "metadata": {
        "id": "_zld9OaXXhhb"
      },
      "source": [
        "# example of saving an image in another format\n",
        "from PIL import Image\n",
        "import requests\n",
        "from IPython.display import display # to display images\n",
        "from numpy import asarray\n",
        "from numpy import clip"
      ],
      "execution_count": null,
      "outputs": []
    },
    {
      "cell_type": "code",
      "metadata": {
        "id": "kPcHpT28EE6p"
      },
      "source": [
        "# load the image\n",
        "# the following url was very helpful\n",
        "# https://stackoverflow.com/questions/7391945/how-do-i-read-image-data-from-a-url-in-python\n",
        "url = \"https://github.com/ricardo-rios/topicos_ciencia_datos/raw/master/unidad_iv/deeplearning_cv/chapter5/sydney_bridge.jpg\"\n",
        "image = Image.open(requests.get(url, stream=True).raw)"
      ],
      "execution_count": null,
      "outputs": []
    },
    {
      "cell_type": "code",
      "metadata": {
        "id": "9vgw10rNr-NJ"
      },
      "source": [
        "pixels = asarray(image)\n",
        "# convert from integers to floats\n",
        "pixels = pixels.astype('float32')\n",
        "# calculate global mean and standard deviation\n",
        "mean, std = pixels.mean(), pixels.std()\n",
        "print('Mean: %.3f, Standard Deviation: %.3f' % (mean, std))\n"
      ],
      "execution_count": null,
      "outputs": []
    },
    {
      "cell_type": "code",
      "metadata": {
        "id": "58q_q4IJviaW"
      },
      "source": [
        "# global standardization of pixels\n",
        "pixels = (pixels - mean) / std\n",
        "# clip pixel values to [-1,1]\n",
        "pixels = clip(pixels, -1.0, 1.0)\n",
        "# shift from [-1,1] to [0,1] with 0.5 mean\n",
        "pixels = (pixels + 1.0) / 2.0\n",
        "# confirm it had the desired effect\n",
        "mean, std = pixels.mean(), pixels.std()\n",
        "print('Mean: %.3f, Standard Deviation: %.3f' % (mean, std))\n",
        "print('Min: %.3f, Max: %.3f' % (pixels.min(), pixels.max()))"
      ],
      "execution_count": null,
      "outputs": []
    },
    {
      "cell_type": "code",
      "metadata": {
        "id": "mMH6omY8wjK9"
      },
      "source": [
        ""
      ],
      "execution_count": null,
      "outputs": []
    }
  ]
}