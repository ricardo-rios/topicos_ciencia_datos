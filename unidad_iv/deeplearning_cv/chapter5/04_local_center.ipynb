{
  "nbformat": 4,
  "nbformat_minor": 0,
  "metadata": {
    "colab": {
      "name": "Untitled14.ipynb",
      "provenance": [],
      "collapsed_sections": []
    },
    "kernelspec": {
      "name": "python3",
      "display_name": "Python 3"
    }
  },
  "cells": [
    {
      "cell_type": "code",
      "metadata": {
        "id": "_zld9OaXXhhb"
      },
      "source": [
        "# example of saving an image in another format\n",
        "from PIL import Image\n",
        "import requests\n",
        "from IPython.display import display # to display images\n",
        "from numpy import asarray"
      ],
      "execution_count": null,
      "outputs": []
    },
    {
      "cell_type": "code",
      "metadata": {
        "id": "kPcHpT28EE6p"
      },
      "source": [
        "# load the image\n",
        "# the following url was very helpful\n",
        "# https://stackoverflow.com/questions/7391945/how-do-i-read-image-data-from-a-url-in-python\n",
        "url = \"https://github.com/ricardo-rios/topicos_ciencia_datos/raw/master/unidad_iv/deeplearning_cv/chapter5/sydney_bridge.jpg\"\n",
        "image = Image.open(requests.get(url, stream=True).raw)"
      ],
      "execution_count": null,
      "outputs": []
    },
    {
      "cell_type": "code",
      "metadata": {
        "id": "LjUQQOjkjEa_"
      },
      "source": [
        "pixels = asarray(image)\n",
        "# convert from integers to floats\n",
        "pixels = pixels.astype('float32')\n"
      ],
      "execution_count": null,
      "outputs": []
    },
    {
      "cell_type": "code",
      "metadata": {
        "id": "oS0zouuppZ_n"
      },
      "source": [
        "# calculate per-channel means and standard deviations\n",
        "means = pixels.mean(axis=(0,1), dtype='float64')\n",
        "print('Means: %s' % means)\n",
        "print('Mins: %s, Maxs: %s' % (pixels.min(axis=(0,1)), pixels.max(axis=(0,1))))\n"
      ],
      "execution_count": null,
      "outputs": []
    },
    {
      "cell_type": "code",
      "metadata": {
        "id": "FDSG0ZycpcNF"
      },
      "source": [
        "# per-channel centering of pixels\n",
        "pixels -= means\n",
        "# confirm it had the desired effect\n",
        "means = pixels.mean(axis=(0,1), dtype='float64')\n",
        "print('Means: %s' % means)\n",
        "print('Mins: %s, Maxs: %s' % (pixels.min(axis=(0,1)), pixels.max(axis=(0,1))))"
      ],
      "execution_count": null,
      "outputs": []
    },
    {
      "cell_type": "code",
      "metadata": {
        "id": "ct5GVhXSpfF0"
      },
      "source": [
        ""
      ],
      "execution_count": null,
      "outputs": []
    }
  ]
}