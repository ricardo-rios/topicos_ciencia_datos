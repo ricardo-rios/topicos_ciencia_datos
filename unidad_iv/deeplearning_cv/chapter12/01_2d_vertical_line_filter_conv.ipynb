{
  "nbformat": 4,
  "nbformat_minor": 0,
  "metadata": {
    "colab": {
      "name": "Untitled19.ipynb",
      "provenance": [],
      "collapsed_sections": []
    },
    "kernelspec": {
      "name": "python3",
      "display_name": "Python 3"
    }
  },
  "cells": [
    {
      "cell_type": "code",
      "metadata": {
        "id": "zsZkVS_0poes"
      },
      "source": [
        "# example of using a single convolutional layer\n",
        "from numpy import asarray\n",
        "from keras.models import Sequential\n",
        "from keras.layers import Conv2D\n",
        "# define input data\n",
        "data = [[0, 0, 0, 1, 1, 0, 0, 0],\n",
        "\t\t[0, 0, 0, 1, 1, 0, 0, 0],\n",
        "\t\t[0, 0, 0, 1, 1, 0, 0, 0],\n",
        "\t\t[0, 0, 0, 1, 1, 0, 0, 0],\n",
        "\t\t[0, 0, 0, 1, 1, 0, 0, 0],\n",
        "\t\t[0, 0, 0, 1, 1, 0, 0, 0],\n",
        "\t\t[0, 0, 0, 1, 1, 0, 0, 0],\n",
        "\t\t[0, 0, 0, 1, 1, 0, 0, 0]]\n",
        "data = asarray(data)\n",
        "data = data.reshape(1, 8, 8, 1)\n"
      ],
      "execution_count": 1,
      "outputs": []
    },
    {
      "cell_type": "code",
      "metadata": {
        "colab": {
          "base_uri": "https://localhost:8080/"
        },
        "id": "h0BJ0PjnHeiX",
        "outputId": "290325b9-9b4b-49e3-c9f5-7160c62fad12"
      },
      "source": [
        "# create model\n",
        "model = Sequential()\n",
        "model.add(Conv2D(1, (3,3), input_shape=(8, 8, 1)))\n",
        "# summarize model\n",
        "model.summary()\n"
      ],
      "execution_count": 2,
      "outputs": [
        {
          "output_type": "stream",
          "text": [
            "Model: \"sequential\"\n",
            "_________________________________________________________________\n",
            "Layer (type)                 Output Shape              Param #   \n",
            "=================================================================\n",
            "conv2d (Conv2D)              (None, 6, 6, 1)           10        \n",
            "=================================================================\n",
            "Total params: 10\n",
            "Trainable params: 10\n",
            "Non-trainable params: 0\n",
            "_________________________________________________________________\n"
          ],
          "name": "stdout"
        }
      ]
    },
    {
      "cell_type": "code",
      "metadata": {
        "id": "PlbF6uMYHjFN"
      },
      "source": [
        "# define a vertical line detector\n",
        "detector = [[[[0]],[[1]],[[0]]],\n",
        "            [[[0]],[[1]],[[0]]],\n",
        "            [[[0]],[[1]],[[0]]]]\n",
        "weights = [asarray(detector), asarray([0.0])]\n",
        "# store the weights in the model\n",
        "model.set_weights(weights)\n"
      ],
      "execution_count": 3,
      "outputs": []
    },
    {
      "cell_type": "code",
      "metadata": {
        "colab": {
          "base_uri": "https://localhost:8080/"
        },
        "id": "INX8IiC7HndM",
        "outputId": "e33c1028-75f8-4c3f-e58d-0274b3a5fd91"
      },
      "source": [
        "  # apply filter to input data\n",
        "yhat = model.predict(data)\n",
        "# enumerate rows\n",
        "for r in range(yhat.shape[1]):\n",
        "\t# print each column in the row\n",
        "\tprint([yhat[0,r,c,0] for c in range(yhat.shape[2])])"
      ],
      "execution_count": 4,
      "outputs": [
        {
          "output_type": "stream",
          "text": [
            "[0.0, 0.0, 3.0, 3.0, 0.0, 0.0]\n",
            "[0.0, 0.0, 3.0, 3.0, 0.0, 0.0]\n",
            "[0.0, 0.0, 3.0, 3.0, 0.0, 0.0]\n",
            "[0.0, 0.0, 3.0, 3.0, 0.0, 0.0]\n",
            "[0.0, 0.0, 3.0, 3.0, 0.0, 0.0]\n",
            "[0.0, 0.0, 3.0, 3.0, 0.0, 0.0]\n"
          ],
          "name": "stdout"
        }
      ]
    },
    {
      "cell_type": "code",
      "metadata": {
        "id": "wQ4OWp70HqDL"
      },
      "source": [
        ""
      ],
      "execution_count": null,
      "outputs": []
    }
  ]
}