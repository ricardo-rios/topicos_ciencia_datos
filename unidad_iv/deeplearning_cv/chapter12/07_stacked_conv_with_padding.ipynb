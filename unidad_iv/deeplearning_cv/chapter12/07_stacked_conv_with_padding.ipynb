{
  "nbformat": 4,
  "nbformat_minor": 0,
  "metadata": {
    "colab": {
      "name": "Untitled19.ipynb",
      "provenance": [],
      "collapsed_sections": []
    },
    "kernelspec": {
      "name": "python3",
      "display_name": "Python 3"
    }
  },
  "cells": [
    {
      "cell_type": "code",
      "metadata": {
        "id": "zsZkVS_0poes"
      },
      "source": [
        "# example a convolutional layer with padding\n",
        "from keras.models import Sequential\n",
        "from keras.layers import Conv2D\n"
      ],
      "execution_count": null,
      "outputs": []
    },
    {
      "cell_type": "code",
      "metadata": {
        "id": "Fp22vdVgQEox"
      },
      "source": [
        "# create model\n",
        "model = Sequential()\n",
        "model.add(Conv2D(1, (3,3), padding='same', input_shape=(8, 8, 1)))\n",
        "model.add(Conv2D(1, (3,3), padding='same'))\n",
        "model.add(Conv2D(1, (3,3), padding='same'))\n",
        "# summarize model\n",
        "model.summary()"
      ],
      "execution_count": null,
      "outputs": []
    }
  ]
}