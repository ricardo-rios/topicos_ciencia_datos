{
  "nbformat": 4,
  "nbformat_minor": 0,
  "metadata": {
    "colab": {
      "name": "Untitled",
      "provenance": [],
      "collapsed_sections": []
    },
    "kernelspec": {
      "name": "python3",
      "display_name": "Python 3"
    },
    "accelerator": "GPU"
  },
  "cells": [
    {
      "cell_type": "code",
      "metadata": {
        "id": "5V5_JH976C6e"
      },
      "source": [
        "# Para habilitar GPU descomentar lo siguiente pero antes \n",
        "# ir al menú Edit -> Notebook settings y en hardware accelerator seleccionar GPU.\n",
        "#import tensorflow as tf\n",
        "#tf.device('/device:GPU:0')"
      ],
      "execution_count": null,
      "outputs": []
    },
    {
      "cell_type": "code",
      "metadata": {
        "id": "xuUg8thn7yqq"
      },
      "source": [
        "# Verificando si esta habilitado el procesador GPU por defecto.\n",
        "\n",
        "#import tensorflow as tf\n",
        "#if tf.test.gpu_device_name():\n",
        "#    print('Default GPU Device: {}'.format(tf.test.gpu_device_name()))\n",
        "#else:\n",
        "#    print(\"Please install GPU version of TF\")"
      ],
      "execution_count": null,
      "outputs": []
    },
    {
      "cell_type": "code",
      "metadata": {
        "id": "849psHTF5_bm"
      },
      "source": [
        "# MLP for Pima Indians Dataset with 10-fold cross validation via sklearn\n",
        "from keras.models import Sequential\n",
        "from keras.layers import Dense\n",
        "from keras.wrappers.scikit_learn import KerasClassifier\n",
        "from sklearn.model_selection import GridSearchCV\n",
        "import numpy\n",
        "from pandas import read_csv"
      ],
      "execution_count": null,
      "outputs": []
    },
    {
      "cell_type": "code",
      "metadata": {
        "id": "uitb5-VIsMgl"
      },
      "source": [
        "# Function to create model, required for KerasClassifier\n",
        "def create_model(optimizer='rmsprop', init='glorot_uniform'):\n",
        "\t# create model\n",
        "\tmodel = Sequential()\n",
        "\tmodel.add(Dense(12, input_dim=8, kernel_initializer=init, activation='relu'))\n",
        "\tmodel.add(Dense(8, kernel_initializer=init, activation='relu'))\n",
        "\tmodel.add(Dense(1, kernel_initializer=init, activation='sigmoid'))\n",
        "\t# Compile model\n",
        "\tmodel.compile(loss='binary_crossentropy', optimizer=optimizer, metrics=['accuracy'])\n",
        "\treturn model\n"
      ],
      "execution_count": null,
      "outputs": []
    },
    {
      "cell_type": "code",
      "metadata": {
        "id": "s-b4sIdP1icA"
      },
      "source": [
        "# load the dataset \n",
        "url = 'https://raw.githubusercontent.com/ricardo-rios/topicos_ciencia_datos/master/unidad_ii/intro_ml/chapter4/pima-indians-diabetes.data.csv'\n",
        "names = [ 'preg' , 'plas' , 'pres' , 'skin' , 'test' , 'mass' , 'pedi' , 'age' , 'class' ]\n",
        "dataset = read_csv(url, names=names)\n"
      ],
      "execution_count": null,
      "outputs": []
    },
    {
      "cell_type": "code",
      "metadata": {
        "id": "3mZLJmob1mvz"
      },
      "source": [
        "array = dataset.values\n",
        "X = array[:, 0:8]\n",
        "Y = array[:, 8]"
      ],
      "execution_count": null,
      "outputs": []
    },
    {
      "cell_type": "code",
      "metadata": {
        "id": "nrFYqjcv1uBz"
      },
      "source": [
        "# create model\n",
        "model = KerasClassifier(build_fn=create_model, verbose=10)\n"
      ],
      "execution_count": null,
      "outputs": []
    },
    {
      "cell_type": "code",
      "metadata": {
        "id": "E4ZiNFxe1yQB"
      },
      "source": [
        "# grid search epochs, batch size and optimizer\n",
        "optimizers = ['rmsprop', 'adam']\n",
        "inits = ['glorot_uniform', 'normal', 'uniform']\n",
        "epochs = [50, 100, 150]\n",
        "batches = [5, 10, 20]\n",
        "param_grid = dict(optimizer=optimizers, epochs=epochs, batch_size=batches, init=inits)\n",
        "grid = GridSearchCV(estimator=model, param_grid=param_grid, cv=3)\n",
        "grid_result = grid.fit(X, Y)\n"
      ],
      "execution_count": null,
      "outputs": []
    },
    {
      "cell_type": "code",
      "metadata": {
        "id": "1fmIJPZb1z-S"
      },
      "source": [
        ""
      ],
      "execution_count": null,
      "outputs": []
    }
  ]
}