{
  "nbformat": 4,
  "nbformat_minor": 0,
  "metadata": {
    "colab": {
      "name": "Untitled1.ipynb",
      "provenance": [],
      "collapsed_sections": []
    },
    "kernelspec": {
      "name": "python3",
      "display_name": "Python 3"
    }
  },
  "cells": [
    {
      "cell_type": "markdown",
      "metadata": {
        "id": "H70b8am2c_p9"
      },
      "source": [
        "# Randomized for Algorithm Tuning\n"
      ]
    },
    {
      "cell_type": "code",
      "metadata": {
        "id": "K93R-xf4e9pa"
      },
      "source": [
        "from pandas import read_csv\n",
        "from scipy.stats import uniform\n",
        "from sklearn.linear_model import RidgeClassifier\n",
        "from sklearn.model_selection import RandomizedSearchCV\n"
      ],
      "execution_count": null,
      "outputs": []
    },
    {
      "cell_type": "code",
      "metadata": {
        "id": "YuFmjbtGdSjA"
      },
      "source": [
        "# Load dataset \n",
        "url = \"https://raw.githubusercontent.com/ricardo-rios/topicos_ciencia_datos/master/unidad_ii/intro_ml/chapter4/pima-indians-diabetes.data.csv\"\n",
        "names = ['preg', 'plas', 'pres', 'skin', 'test', 'mass', 'pedi', 'age', 'class']\n",
        "dataframe = read_csv(url, names=names)\n",
        "array = dataframe.values\n",
        "X = array[:,0:8]\n",
        "Y = array[:,8]"
      ],
      "execution_count": null,
      "outputs": []
    },
    {
      "cell_type": "code",
      "metadata": {
        "id": "IOjOkIHTyxpK"
      },
      "source": [
        "param_grid = {'alpha': uniform()}\n",
        "model = RidgeClassifier()\n",
        "rsearch = RandomizedSearchCV(estimator=model, param_distributions=param_grid, n_iter=100, cv=3, random_state=7)\n",
        "rsearch.fit(X, Y)\n",
        "print(rsearch.best_score_)\n",
        "print(rsearch.best_estimator_.alpha)"
      ],
      "execution_count": null,
      "outputs": []
    },
    {
      "cell_type": "code",
      "metadata": {
        "id": "W5LUgGzdYUph"
      },
      "source": [
        ""
      ],
      "execution_count": null,
      "outputs": []
    }
  ]
}