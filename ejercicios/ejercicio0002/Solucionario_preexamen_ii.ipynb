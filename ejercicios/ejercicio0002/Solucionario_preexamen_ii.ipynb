{
  "nbformat": 4,
  "nbformat_minor": 0,
  "metadata": {
    "colab": {
      "name": "Solucionario_preexamen_ii.ipynb",
      "provenance": [],
      "collapsed_sections": []
    },
    "kernelspec": {
      "name": "python3",
      "display_name": "Python 3"
    }
  },
  "cells": [
    {
      "cell_type": "code",
      "metadata": {
        "id": "IIs-ItB1DAU6"
      },
      "source": [
        "# Para habilitar GPU descomentar lo siguiente pero antes \n",
        "# ir al menú Edit -> Notebook settings y en hardware accelerator seleccionar GPU.\n",
        "#import tensorflow as tf\n",
        "#tf.device('/device:GPU:0')"
      ],
      "execution_count": null,
      "outputs": []
    },
    {
      "cell_type": "code",
      "metadata": {
        "id": "ludSHFB8DljN"
      },
      "source": [
        "# Verificando si esta habilitado el procesador GPU por defecto.\n",
        "\n",
        "#import tensorflow as tf\n",
        "#if tf.test.gpu_device_name():\n",
        "#    print('Default GPU Device: {}'.format(tf.test.gpu_device_name()))\n",
        "#else:\n",
        "#    print(\"Please install GPU version of TF\")"
      ],
      "execution_count": null,
      "outputs": []
    },
    {
      "cell_type": "code",
      "metadata": {
        "id": "OKAZWjxRDr-_"
      },
      "source": [
        "# Solucionario pre-examen ii \n",
        "from pandas import read_csv\n",
        "from pandas import set_option\n",
        "from matplotlib import pyplot\n",
        "import seaborn as sns\n",
        "from keras.models import Sequential\n",
        "from keras.layers import Dense \n",
        "from keras.wrappers.scikit_learn import KerasClassifier\n",
        "from sklearn.model_selection import StratifiedKFold\n",
        "from sklearn.model_selection import cross_val_score\n",
        "from sklearn.preprocessing import StandardScaler\n",
        "from sklearn.pipeline import Pipeline\n",
        "from sklearn.model_selection import KFold\n",
        "import numpy "
      ],
      "execution_count": null,
      "outputs": []
    },
    {
      "cell_type": "markdown",
      "metadata": {
        "id": "55UywgAlFFVp"
      },
      "source": [
        "# Cargando el archivo de datos"
      ]
    },
    {
      "cell_type": "code",
      "metadata": {
        "id": "bBGOyO0sD2g3"
      },
      "source": [
        "# Load dataset \n",
        "url = \"https://raw.githubusercontent.com/ricardo-rios/topicos_ciencia_datos/master/parciales/parcial_i/datos.csv\"\n",
        "dataset = read_csv(url, header=0)"
      ],
      "execution_count": null,
      "outputs": []
    },
    {
      "cell_type": "markdown",
      "metadata": {
        "id": "Wm0ZmOUpFLWo"
      },
      "source": [
        "# Análisis descriptivo \n"
      ]
    },
    {
      "cell_type": "code",
      "metadata": {
        "id": "V1Sf76vuEUr-"
      },
      "source": [
        "peek = dataset.head()\n",
        "print(peek)"
      ],
      "execution_count": null,
      "outputs": []
    },
    {
      "cell_type": "code",
      "metadata": {
        "id": "VF2BNu3UFP6Z"
      },
      "source": [
        "print(dataset.shape)"
      ],
      "execution_count": null,
      "outputs": []
    },
    {
      "cell_type": "code",
      "metadata": {
        "id": "5dXUBGcdFqQr"
      },
      "source": [
        "types = dataset.dtypes\n",
        "print(types)\n"
      ],
      "execution_count": null,
      "outputs": []
    },
    {
      "cell_type": "code",
      "metadata": {
        "id": "RVHeMvaAFvCY"
      },
      "source": [
        "set_option('display.width', 100)\n",
        "set_option('precision', 3)\n",
        "description = dataset.describe()\n",
        "print(description)\n"
      ],
      "execution_count": null,
      "outputs": []
    },
    {
      "cell_type": "code",
      "metadata": {
        "id": "2YAXLmRTGHn3"
      },
      "source": [
        "class_counts = dataset.groupby('Y').size()\n",
        "print(class_counts)"
      ],
      "execution_count": null,
      "outputs": []
    },
    {
      "cell_type": "code",
      "metadata": {
        "id": "wv2uvsdmGi2F"
      },
      "source": [
        "correlations = dataset.corr(method= 'pearson' )\n",
        "print(correlations)"
      ],
      "execution_count": null,
      "outputs": []
    },
    {
      "cell_type": "code",
      "metadata": {
        "id": "eTQufXi3GoAE"
      },
      "source": [
        "skew = dataset.skew()\n",
        "print(skew)"
      ],
      "execution_count": null,
      "outputs": []
    },
    {
      "cell_type": "markdown",
      "metadata": {
        "id": "A5fAmbADGu0c"
      },
      "source": [
        "# Visualizando datos"
      ]
    },
    {
      "cell_type": "code",
      "metadata": {
        "id": "JrqiHERmGrz0"
      },
      "source": [
        "dataset.hist()\n",
        "pyplot.show()"
      ],
      "execution_count": null,
      "outputs": []
    },
    {
      "cell_type": "code",
      "metadata": {
        "id": "m_7gmHMbGzhT"
      },
      "source": [
        "dataset.plot(kind='density', subplots=True, layout=(1, 5), sharex=False)\n",
        "pyplot.show()"
      ],
      "execution_count": null,
      "outputs": []
    },
    {
      "cell_type": "code",
      "metadata": {
        "id": "d7_5b414HN7H"
      },
      "source": [
        "dataset.plot(kind='box', subplots=True, layout=(1,5), sharey=False)\n",
        "pyplot.show()"
      ],
      "execution_count": null,
      "outputs": []
    },
    {
      "cell_type": "code",
      "metadata": {
        "id": "K_jL3Mg-HTOo"
      },
      "source": [
        "sns.pairplot(dataset, hue = 'Y')"
      ],
      "execution_count": null,
      "outputs": []
    },
    {
      "cell_type": "markdown",
      "metadata": {
        "id": "bMSnXRBmHpRK"
      },
      "source": [
        "# Desarrollar una estrategia de selección de variables.\n",
        "\n",
        "Del gráfico anterior se observa que la variable X4 por si sola tiene un gran poder discriminador , tambien en menor medida X3 tiene la capacidad de discriminar entre las dos clases de la variable respuesta. Por último, X1 y X2 no estan asociadas con la variable respuesta. Vamos a utilizar las variables X3 y X4."
      ]
    },
    {
      "cell_type": "code",
      "metadata": {
        "id": "NNoZllOLHWW3"
      },
      "source": [
        "# Extraemos las columnas correspondientos a las variables X3 y X4.\n",
        "array = dataset.values\n",
        "X = array[:,[2,3]]\n",
        "Y = array[:,4]"
      ],
      "execution_count": null,
      "outputs": []
    },
    {
      "cell_type": "markdown",
      "metadata": {
        "id": "M-FBKyhsWxz1"
      },
      "source": [
        "# Creando el Pipeline"
      ]
    },
    {
      "cell_type": "code",
      "metadata": {
        "id": "pfVECw6LHxc3"
      },
      "source": [
        "# Defino la función con la arquitectura esta es requerida \n",
        "# por el wrapper KerasClassifier\n",
        "def create_model():\n",
        "  # create model\n",
        "  model = Sequential()\n",
        "  model.add(Dense(2, input_dim=2, activation= 'relu' ))\n",
        "  model.add(Dense(1, activation='sigmoid' ))\n",
        "  # Compile model\n",
        "  model.compile(loss='binary_crossentropy' , optimizer= 'adam' , metrics=['accuracy'])\n",
        "  return model"
      ],
      "execution_count": null,
      "outputs": []
    },
    {
      "cell_type": "code",
      "metadata": {
        "id": "37KBkLNkX-c2"
      },
      "source": [
        "# defino el pipeline\n",
        "# create pipeline\n",
        "estimators = []\n",
        "estimators.append(('standardize', StandardScaler()))\n",
        "estimators.append(('neural_network', KerasClassifier(build_fn=create_model, verbose=10)))\n",
        "model = Pipeline(estimators)"
      ],
      "execution_count": null,
      "outputs": []
    },
    {
      "cell_type": "markdown",
      "metadata": {
        "id": "ulq4CioqZ-gk"
      },
      "source": [
        "# Desempeño del modelo con un número de folds igual a 10."
      ]
    },
    {
      "cell_type": "code",
      "metadata": {
        "id": "8W5lycLsYbtj"
      },
      "source": [
        "# evaluate pipeline\n",
        "kfold = KFold(n_splits=10, random_state=1234, shuffle=True)\n",
        "results = cross_val_score(model, X, Y, cv=kfold)\n",
        "print(results.mean())"
      ],
      "execution_count": null,
      "outputs": []
    }
  ]
}