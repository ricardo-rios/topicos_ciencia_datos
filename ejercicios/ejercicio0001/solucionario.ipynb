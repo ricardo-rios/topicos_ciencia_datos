{
  "nbformat": 4,
  "nbformat_minor": 0,
  "metadata": {
    "colab": {
      "name": "Preexamen",
      "provenance": [],
      "collapsed_sections": []
    },
    "kernelspec": {
      "name": "python3",
      "display_name": "Python 3"
    }
  },
  "cells": [
    {
      "cell_type": "code",
      "metadata": {
        "id": "vHthmfUsrUrB"
      },
      "source": [
        "# Load libraries\n",
        "from pandas import read_csv\n",
        "from sklearn.model_selection import KFold\n",
        "from sklearn.model_selection import cross_val_score\n",
        "from sklearn.preprocessing import StandardScaler\n",
        "from sklearn.pipeline import Pipeline\n",
        "from pandas import set_option\n",
        "from matplotlib import pyplot\n",
        "import numpy  \n",
        "from sklearn.ensemble import RandomForestClassifier\n",
        "from sklearn.model_selection import GridSearchCV"
      ],
      "execution_count": 1,
      "outputs": []
    },
    {
      "cell_type": "markdown",
      "metadata": {
        "id": "Bda71VzawsMP"
      },
      "source": [
        "# Load data"
      ]
    },
    {
      "cell_type": "code",
      "metadata": {
        "id": "kTrfK8l6sJbw"
      },
      "source": [
        "# Load data \n",
        "url = \"https://raw.githubusercontent.com/ricardo-rios/topicos_ciencia_datos/master/ejercicios/ejercicio0001/datos.csv\"\n",
        "data = read_csv(url, header=0)"
      ],
      "execution_count": 2,
      "outputs": []
    },
    {
      "cell_type": "code",
      "metadata": {
        "id": "z3I4FmG2sae9",
        "outputId": "ce4387bc-aca2-4a13-b0cc-f0cddda14a4c",
        "colab": {
          "base_uri": "https://localhost:8080/"
        }
      },
      "source": [
        "# We print the numbers of rows and columns\n",
        "print(data.shape)"
      ],
      "execution_count": 3,
      "outputs": [
        {
          "output_type": "stream",
          "text": [
            "(100000, 26)\n"
          ],
          "name": "stdout"
        }
      ]
    },
    {
      "cell_type": "code",
      "metadata": {
        "id": "FHiib2bLsgIZ",
        "outputId": "03e877db-6896-426a-da4b-f302424169f6",
        "colab": {
          "base_uri": "https://localhost:8080/"
        }
      },
      "source": [
        "# We take a sneak peek to the data\n",
        "peek = data.head(20)\n",
        "print(peek)"
      ],
      "execution_count": 4,
      "outputs": [
        {
          "output_type": "stream",
          "text": [
            "           X1         X2         X3  ...        X24        X25  Y\n",
            "0   74.210269  77.986411  89.128194  ...  80.440721  80.883145  0\n",
            "1   73.154330  77.559074  74.844036  ...  76.320864  83.188503  1\n",
            "2   80.051855  89.762222  78.233780  ...  78.126515  86.253543  0\n",
            "3   75.253554  80.800038  74.991073  ...  79.376889  80.443944  1\n",
            "4   81.903759  77.241719  78.697315  ...  81.093220  82.897905  0\n",
            "5   77.240152  76.606884  82.237819  ...  79.829565  78.895578  0\n",
            "6   81.432709  82.924548  79.532566  ...  76.303128  79.866099  0\n",
            "7   87.773530  82.909124  76.085159  ...  83.069238  82.712907  1\n",
            "8   77.255547  80.302357  84.370235  ...  78.461434  86.385326  0\n",
            "9   81.107749  73.011044  79.958893  ...  80.802315  77.840632  1\n",
            "10  79.494913  84.086968  79.728179  ...  80.080405  78.972943  0\n",
            "11  80.393117  82.976990  82.873770  ...  81.227227  83.698915  0\n",
            "12  82.511669  78.413373  76.148201  ...  83.113030  77.904520  1\n",
            "13  83.566916  78.129726  72.528989  ...  82.825027  77.374554  0\n",
            "14  71.795963  77.214910  76.394547  ...  82.023505  79.328071  0\n",
            "15  79.159219  82.282881  85.488601  ...  83.607424  82.448861  0\n",
            "16  82.721906  76.081140  73.491047  ...  79.856388  77.037121  1\n",
            "17  85.288959  76.291432  80.676644  ...  72.765548  78.946523  1\n",
            "18  81.236267  78.515107  76.786220  ...  84.026338  73.640271  0\n",
            "19  81.160200  74.586508  77.932592  ...  74.527700  81.696412  0\n",
            "\n",
            "[20 rows x 26 columns]\n"
          ],
          "name": "stdout"
        }
      ]
    },
    {
      "cell_type": "code",
      "metadata": {
        "id": "_0B_kPW2t2_g",
        "outputId": "525a4382-1405-4f4a-f037-a2b464e2de1a",
        "colab": {
          "base_uri": "https://localhost:8080/"
        }
      },
      "source": [
        "# Data types for each attribute \n",
        "types = data.dtypes\n",
        "print(types)"
      ],
      "execution_count": 5,
      "outputs": [
        {
          "output_type": "stream",
          "text": [
            "X1     float64\n",
            "X2     float64\n",
            "X3     float64\n",
            "X4     float64\n",
            "X5     float64\n",
            "X6     float64\n",
            "X7     float64\n",
            "X8     float64\n",
            "X9     float64\n",
            "X10    float64\n",
            "X11    float64\n",
            "X12    float64\n",
            "X13    float64\n",
            "X14    float64\n",
            "X15    float64\n",
            "X16    float64\n",
            "X17    float64\n",
            "X18    float64\n",
            "X19    float64\n",
            "X20    float64\n",
            "X21    float64\n",
            "X22    float64\n",
            "X23    float64\n",
            "X24    float64\n",
            "X25    float64\n",
            "Y        int64\n",
            "dtype: object\n"
          ],
          "name": "stdout"
        }
      ]
    },
    {
      "cell_type": "markdown",
      "metadata": {
        "id": "YlkcgH9Sw8js"
      },
      "source": [
        "# Descriptive statistics"
      ]
    },
    {
      "cell_type": "code",
      "metadata": {
        "id": "PM7Khs3Hutfy",
        "outputId": "525aa497-ed07-40f5-ae18-327e9039ae98",
        "colab": {
          "base_uri": "https://localhost:8080/"
        }
      },
      "source": [
        "# Statistical summary \n",
        "set_option('display.width', 100)\n",
        "set_option('precision', 3)\n",
        "description = data.describe()\n",
        "print(description)"
      ],
      "execution_count": 6,
      "outputs": [
        {
          "output_type": "stream",
          "text": [
            "               X1          X2          X3  ...         X24         X25         Y\n",
            "count  100000.000  100000.000  100000.000  ...  100000.000  100000.000  100000.0\n",
            "mean       79.995      79.992      79.977  ...      79.990      80.010       0.5\n",
            "std         3.990       3.983       4.006  ...       3.999       4.008       0.5\n",
            "min        62.772      61.704      63.310  ...      60.754      63.523       0.0\n",
            "25%        77.305      77.299      77.278  ...      77.289      77.304       0.0\n",
            "50%        79.990      79.997      79.962  ...      79.988      80.012       0.0\n",
            "75%        82.685      82.687      82.682  ...      82.688      82.733       1.0\n",
            "max        96.920      97.380      96.593  ...      98.362      96.339       1.0\n",
            "\n",
            "[8 rows x 26 columns]\n"
          ],
          "name": "stdout"
        }
      ]
    },
    {
      "cell_type": "code",
      "metadata": {
        "id": "3EBXudrjvANg",
        "outputId": "aa7d1324-4cce-4e1d-f276-c667da49de54",
        "colab": {
          "base_uri": "https://localhost:8080/"
        }
      },
      "source": [
        "# Class distribution\n",
        "class_counts = data.groupby('Y').size()\n",
        "print(class_counts)"
      ],
      "execution_count": 7,
      "outputs": [
        {
          "output_type": "stream",
          "text": [
            "Y\n",
            "0    50010\n",
            "1    49990\n",
            "dtype: int64\n"
          ],
          "name": "stdout"
        }
      ]
    },
    {
      "cell_type": "code",
      "metadata": {
        "id": "RoPvriq1vmRb",
        "outputId": "8289ac60-6f1f-4993-da08-e7733020dab9",
        "colab": {
          "base_uri": "https://localhost:8080/"
        }
      },
      "source": [
        "# Pariwise Pearson Correlation\n",
        "correlations = data.corr(method='pearson')\n",
        "print(correlations)"
      ],
      "execution_count": 8,
      "outputs": [
        {
          "output_type": "stream",
          "text": [
            "            X1         X2         X3  ...        X24        X25          Y\n",
            "X1   1.000e+00 -2.358e-03  9.833e-04  ... -3.426e-04  8.426e-04  7.199e-03\n",
            "X2  -2.358e-03  1.000e+00 -3.286e-03  ...  6.170e-04 -1.750e-04  2.701e-03\n",
            "X3   9.833e-04 -3.286e-03  1.000e+00  ... -2.204e-03  5.790e-04 -3.459e-03\n",
            "X4  -3.545e-03  3.728e-04 -5.709e-04  ... -5.342e-03 -1.168e-03 -6.336e-01\n",
            "X5  -4.031e-03  6.114e-04  9.659e-04  ... -3.034e-03  2.438e-03  5.558e-04\n",
            "X6   1.708e-04  2.491e-03 -1.132e-03  ... -2.603e-03  5.663e-04  1.298e-03\n",
            "X7   2.835e-03 -3.474e-03  3.609e-03  ... -2.763e-03 -5.191e-03  2.768e-04\n",
            "X8   1.063e-03  2.234e-03 -5.209e-03  ...  3.106e-04 -4.752e-03  4.234e-04\n",
            "X9   3.792e-03 -6.357e-03 -2.887e-03  ...  9.727e-03 -4.685e-03  2.328e-03\n",
            "X10 -1.831e-03  1.322e-03 -6.640e-03  ...  4.873e-03 -2.304e-03 -2.301e-03\n",
            "X11  3.100e-03  3.588e-03  1.615e-03  ... -6.023e-03  6.010e-03  3.069e-03\n",
            "X12  5.878e-03  2.034e-03 -3.780e-04  ...  4.906e-03 -1.185e-03  5.379e-03\n",
            "X13 -2.204e-03  1.502e-03 -4.185e-03  ... -3.603e-03 -8.061e-04 -4.369e-01\n",
            "X14 -1.871e-03 -6.487e-05 -1.511e-03  ... -4.129e-03  2.864e-03 -2.077e-03\n",
            "X15 -2.705e-03  1.318e-03  2.564e-03  ...  3.930e-03  3.505e-03  2.906e-01\n",
            "X16  1.265e-03 -2.729e-04 -4.039e-03  ...  5.298e-03 -3.840e-03  5.616e-02\n",
            "X17  1.065e-03  1.791e-03  1.477e-03  ... -1.955e-03  8.175e-06  1.384e-03\n",
            "X18  1.058e-04 -2.743e-04  4.298e-03  ...  2.603e-03 -2.259e-03  2.201e-03\n",
            "X19  5.995e-03  1.203e-03  4.943e-03  ... -4.129e-04  4.711e-03  4.643e-01\n",
            "X20  6.528e-03  1.732e-03 -4.698e-04  ... -1.787e-03  4.981e-04  1.994e-03\n",
            "X21 -4.139e-03  8.136e-04 -3.545e-04  ...  1.882e-03 -8.896e-04 -8.075e-04\n",
            "X22  1.436e-03  6.225e-04  5.910e-03  ... -1.236e-04  4.708e-03  1.726e-03\n",
            "X23 -1.949e-04  1.295e-03 -4.615e-03  ... -2.041e-03  1.967e-03 -3.867e-03\n",
            "X24 -3.426e-04  6.170e-04 -2.204e-03  ...  1.000e+00 -9.661e-05  8.426e-04\n",
            "X25  8.426e-04 -1.750e-04  5.790e-04  ... -9.661e-05  1.000e+00  1.282e-03\n",
            "Y    7.199e-03  2.701e-03 -3.459e-03  ...  8.426e-04  1.282e-03  1.000e+00\n",
            "\n",
            "[26 rows x 26 columns]\n"
          ],
          "name": "stdout"
        }
      ]
    },
    {
      "cell_type": "code",
      "metadata": {
        "id": "PraEUdVLwVGB",
        "outputId": "188b8a02-58c8-44ea-aefc-d258c77308cd",
        "colab": {
          "base_uri": "https://localhost:8080/"
        }
      },
      "source": [
        "# Skew for each attribute \n",
        "skew = data.skew()\n",
        "print(skew)"
      ],
      "execution_count": 9,
      "outputs": [
        {
          "output_type": "stream",
          "text": [
            "X1    -2.170e-03\n",
            "X2    -1.290e-03\n",
            "X3     5.460e-03\n",
            "X4     2.117e-01\n",
            "X5    -6.233e-03\n",
            "X6    -3.166e-03\n",
            "X7    -8.141e-03\n",
            "X8    -8.789e-03\n",
            "X9    -1.442e-03\n",
            "X10    6.174e-03\n",
            "X11   -1.081e-01\n",
            "X12    4.152e-03\n",
            "X13    4.644e-01\n",
            "X14    1.841e-03\n",
            "X15   -1.928e-01\n",
            "X16    9.230e-02\n",
            "X17    7.598e-03\n",
            "X18    3.237e-03\n",
            "X19   -7.101e-02\n",
            "X20   -1.593e-02\n",
            "X21    3.328e-04\n",
            "X22   -9.313e-03\n",
            "X23   -9.066e-03\n",
            "X24   -2.607e-03\n",
            "X25   -4.526e-03\n",
            "Y      4.000e-04\n",
            "dtype: float64\n"
          ],
          "name": "stdout"
        }
      ]
    },
    {
      "cell_type": "markdown",
      "metadata": {
        "id": "_9vPGV4Mwx2m"
      },
      "source": [
        "# Visualizations"
      ]
    },
    {
      "cell_type": "code",
      "metadata": {
        "id": "AbVXftulwjL0",
        "outputId": "b3d80a52-4902-4c69-d790-c7a9d24137a2",
        "colab": {
          "base_uri": "https://localhost:8080/",
          "height": 281
        }
      },
      "source": [
        "# Univariate histogram\n",
        "data.hist()\n",
        "pyplot.show()"
      ],
      "execution_count": 10,
      "outputs": [
        {
          "output_type": "display_data",
          "data": {
            "image/png": "[encoded data removed]",
            "text/plain": [
              "<Figure size 432x288 with 30 Axes>"
            ]
          },
          "metadata": {
            "tags": [],
            "needs_background": "light"
          }
        }
      ]
    },
    {
      "cell_type": "code",
      "metadata": {
        "id": "wByyZTRoxPcl",
        "outputId": "42cd6eeb-8211-4af6-ea71-653ff9d925f1",
        "colab": {
          "base_uri": "https://localhost:8080/",
          "height": 271
        }
      },
      "source": [
        "# Univariate density plots \n",
        "correlations = data.corr()\n",
        "fig = pyplot.figure()\n",
        "ax = fig.add_subplot(111)\n",
        "cax = ax.matshow(correlations, vmin=-1, vmax=1)\n",
        "fig.colorbar(cax)\n",
        "pyplot.show()"
      ],
      "execution_count": 11,
      "outputs": [
        {
          "output_type": "display_data",
          "data": {
            "image/png": "[encoded data removed]",
            "text/plain": [
              "<Figure size 432x288 with 2 Axes>"
            ]
          },
          "metadata": {
            "tags": [],
            "needs_background": "light"
          }
        }
      ]
    },
    {
      "cell_type": "code",
      "metadata": {
        "id": "MTY16NEAyHoj",
        "outputId": "1a32b577-b843-42c8-bf97-39487e8531b8",
        "colab": {
          "base_uri": "https://localhost:8080/",
          "height": 271
        }
      },
      "source": [
        "# Correlation matrix \n",
        "correlations = data.corr()\n",
        "names = list(data.columns)\n",
        "# plot correlation matrix\n",
        "fig = pyplot.figure()\n",
        "ax = fig.add_subplot(111)\n",
        "cax = ax.matshow(correlations, vmin=-1, vmax=1)\n",
        "fig.colorbar(cax)\n",
        "ticks = numpy.arange(0,25,1)\n",
        "ax.set_xticks(ticks)\n",
        "ax.set_yticks(ticks)\n",
        "ax.set_xticklabels(names)\n",
        "ax.set_yticklabels(names)\n",
        "pyplot.show()"
      ],
      "execution_count": 12,
      "outputs": [
        {
          "output_type": "display_data",
          "data": {
            "image/png": "[encoded data removed]",
            "text/plain": [
              "<Figure size 432x288 with 2 Axes>"
            ]
          },
          "metadata": {
            "tags": [],
            "needs_background": "light"
          }
        }
      ]
    },
    {
      "cell_type": "markdown",
      "metadata": {
        "id": "Wli90nWW0GAT"
      },
      "source": [
        "# Making the pipeline "
      ]
    },
    {
      "cell_type": "code",
      "metadata": {
        "id": "TrcYhcfS0MfZ",
        "outputId": "025f0c19-1372-4a64-c588-883039105d9b",
        "colab": {
          "base_uri": "https://localhost:8080/"
        }
      },
      "source": [
        "array = data.values\n",
        "print(array.shape)\n",
        "X = array[:,0:25]\n",
        "Y = array[:,25]"
      ],
      "execution_count": 13,
      "outputs": [
        {
          "output_type": "stream",
          "text": [
            "(100000, 26)\n"
          ],
          "name": "stdout"
        }
      ]
    },
    {
      "cell_type": "code",
      "metadata": {
        "id": "Rn6Y2r4G0pv_"
      },
      "source": [
        "# create the pipeline \n",
        "# create pipeline\n",
        "estimators = []\n",
        "estimators.append(( 'standardize' , StandardScaler()))\n",
        "rf = RandomForestClassifier(random_state = 1) # random state is for reproducibility purposes.\n",
        "estimators.append(('rf' , rf))\n",
        "model = Pipeline(estimators)"
      ],
      "execution_count": 14,
      "outputs": []
    },
    {
      "cell_type": "code",
      "metadata": {
        "id": "ADqYgkyB6b1I"
      },
      "source": [
        "kfold = KFold(n_splits=10, random_state=7, shuffle=True)\n",
        "\n",
        "results = cross_val_score(model, X, Y, cv=kfold)\n",
        "print(results.mean())"
      ],
      "execution_count": null,
      "outputs": []
    },
    {
      "cell_type": "code",
      "metadata": {
        "id": "2x2Qk7LYCn0b"
      },
      "source": [
        ""
      ],
      "execution_count": null,
      "outputs": []
    }
  ]
}